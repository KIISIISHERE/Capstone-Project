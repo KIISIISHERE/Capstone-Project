{
  "nbformat": 4,
  "nbformat_minor": 0,
  "metadata": {
    "colab": {
      "provenance": [],
      "authorship_tag": "ABX9TyOvjh2dH5Bly/9vd0izA3T5",
      "include_colab_link": true
    },
    "kernelspec": {
      "name": "python3",
      "display_name": "Python 3"
    },
    "language_info": {
      "name": "python"
    }
  },
  "cells": [
    {
      "cell_type": "markdown",
      "metadata": {
        "id": "view-in-github",
        "colab_type": "text"
      },
      "source": [
        "<a href=\"https://colab.research.google.com/github/KIISIISHERE/Capstone-Project/blob/main/Bayes_Theorem.ipynb\" target=\"_parent\"><img src=\"https://colab.research.google.com/assets/colab-badge.svg\" alt=\"Open In Colab\"/></a>"
      ]
    },
    {
      "cell_type": "code",
      "execution_count": 9,
      "metadata": {
        "colab": {
          "base_uri": "https://localhost:8080/"
        },
        "id": "rI4TOC7yZt-1",
        "outputId": "1d92606d-a52c-4bf5-f63e-326a6b999513"
      },
      "outputs": [
        {
          "output_type": "stream",
          "name": "stdout",
          "text": [
            "Let's Calculate the probability of either having strep throat or not\n",
            "Person has strep throat?\n",
            " 1. Yes \u0002. No\n",
            "Enter your choice:(1/2):1\n",
            "Testing positive?\n",
            " 1. Yes \u0002. No\n",
            "Enter your choice:2\n",
            "The probability of havig strep throat is: 0.85\n",
            "The probability of testing positive fpr strep throat is: 0.17\n"
          ]
        }
      ],
      "source": [
        "def find_prob(a,b):\n",
        "  if a==1:\n",
        "    prob_a=0.2\n",
        "    if b==2:\n",
        "      prob_bga=0.85\n",
        "    elif b==2:\n",
        "      prob_bga=0.15\n",
        "    else:\n",
        "      print(\"Invalid Choice\")\n",
        "    prob_a_and_b=prob_a*prob_bga\n",
        "    print(\"The probability of havig strep throat is:\",prob_bga)\n",
        "    print(\"The probability of testing positive fpr strep throat is:\",prob_a_and_b)\n",
        "  elif a==2:#not having strep throat\n",
        "    prob_a=0.8\n",
        "    #probability of testing positive\n",
        "    if b==1:\n",
        "      prob_bga=0.02\n",
        "    # no strep throat and not testing positive\n",
        "    elif b==2:\n",
        "      prob_bga=0.98\n",
        "    else:\n",
        "      print(\"Invalid Choice\")\n",
        "    prob_a_and_b=prob_a*prob_bga\n",
        "    print(\"The probability of not having strep throat is:\",prob_bga)\n",
        "    print(\"The probability of testing positive yet you don't have strep throat\",prob_a_and_b)\n",
        "  else:\n",
        "    print(\"Invalid Choice\")\n",
        "print(\"Let's Calculate the probability of either having strep throat or not\")\n",
        "print(\"Person has strep throat?\\n 1. Yes \\2. No\")\n",
        "a=int(input(\"Enter your choice:(1/2):\"))\n",
        "print(\"Testing positive?\\n 1. Yes \\2. No\")\n",
        "b=int(input(\"Enter your choice:\"))\n",
        "find_prob(a,b)\n"
      ]
    },
    {
      "cell_type": "code",
      "source": [],
      "metadata": {
        "id": "5Ofpu-oLdqoQ"
      },
      "execution_count": null,
      "outputs": []
    }
  ]
}